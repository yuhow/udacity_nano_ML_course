{
 "cells": [
  {
   "cell_type": "markdown",
   "metadata": {},
   "source": [
    "NOTE: <br>\n",
    "review link of my proposal: https://review.udacity.com/#!/reviews/1076422"
   ]
  },
  {
   "cell_type": "markdown",
   "metadata": {},
   "source": [
    "# Machine Learning Engineer Nanodegree\n",
    "\n",
    "## Capstone Project -- TalkingData AdTracking Fraud Detection Challenge\n",
    "<br>\n",
    "<br>\n",
    "Yoh-Hao Chang <br>\n",
    "question0802@gmail.com <br>\n",
    "Mar. 8th, 2018\n",
    "***\n",
    "\n",
    "## I. Definition\n",
    "### Project Overview\n",
    "Fraud risk is everywhere, but for companies that advertise online, click fraud can happen at an overwhelming volume, resulting in misleading click data and wasted money. Ad channels can drive up costs by simply clicking on the ad at a large scale. With over 1 billion smart mobile devices in active use every month, China is the largest mobile market in the world and therefore suffers from huge volumes of fraudulent traffic. In the paper, ‘Detecting Click Fraud in Online Advertising: A Data Mining Approach’ (JMLR, v.15 n.1, p.99-140, Jan. 2014), it summarize lots of observations and analyses of the fraud click detection. It also addressed some important issues in data mining and machine learning research, including highly imbalanced distribution of the output variable, heterogeneous data (mixture of numerical and categorical variables), and noisy patterns with missing or unknown values. \n",
    "\n",
    "TalkingData, China’s largest independent big data service platform, covers over 70% of active mobile devices nationwide. They handle 3 billion clicks per day, of which 90% are potentially fraudulent. Their current approach to prevent click fraud for app developers is to measure the journey of a user’s click across their portfolio, and flag IP addresses who produce lots of clicks, but never end up installing apps. With this information, they’ve built an IP blacklist and device blacklist.\n",
    "\n",
    "A generous dataset covering approximately 200 million clicks over 4 days is provided for this project. All of the necessary data sets can be found and download from: https://www.kaggle.com/c/talkingdata-adtracking-fraud-detection/data\n",
    "\n",
    "There are about hundreds million recorded data and each data entry is with 8 features. It contains some features like: IP address of click, App. ID for marketing, operation system (OS) version ID of user mobile phone, device type ID of user mobile phone, the target that is to be predicted, indicating the app was downloaded, etc. Some features of data are encoded already. Except of two features are recorded in UTC time format.\n",
    "\n",
    "### Problem Statement\n",
    "The problem is quite straightforward: **how to know whether a user will really download an app after clicking a mobile app ad? That is, how to distinguish between meaningful clicks and fraud clicks?** Currently, TalkingData does have some methods to prevent click fraud. But there are still rooms for improvement. While successful, they can then always be one step ahead of those fraudsters. So our goal is to **develop an algorithm/model which can precisely predict whether a user will download an app after clicking a mobile app ad based on the recorded properties of that user**. The performance of model will be evaluated on area under the Receiver operating characteristic (ROC) curve between the predicted probability and the observed target. The smaller differences between our predictions and truths, the better our solution model will be. Then such model can be used to distinguish between meaningful clicks and fraud clicks and reduced the amount of wasted money caused by fraudulence.\n",
    "\n",
    "This project is actually taken from one of Kaggle competitions. They provide a benchmark model which is developed by a random forest method. The socre of this benchmark model is 0.911. And the score is exactly evaluated on area under the Receiver operating characteristic (ROC) curve between the predicted probability and the observed target.\n",
    "\n",
    "<img src=\"images/work_flow.jpg\" alt=\"Drawing\" style=\"width: 400px;\"/>\n",
    "\n",
    "By following a very traditional but useful work flow, we first approach this problem by investigating the data. Through this exploratory data analysis, we can establish some basic ideas about the interrelationship between different features or the natural properties of each feature itself. We can even create some new features based on the existing features.\n",
    "\n",
    "Next, we have to check and clean the data. Maybe sometime our data will contain lots of different values or even missing values. So in feature engineering of data for our model developing, we will handle the problem of missing value and outliers, and/or normalize numeric features. If we have any categorical feature or text format feature, additional data preprocessing techniques will be included. For developing a proper model for our project, we now will split the whole training data set into to three pieces: one for training, another for validation and the other for testing. This step is for cross-validation.\n",
    "\n",
    "Basically, two kinds of classifiers will be built in this project: one is based on the neural network; the other is based on the random forest. Grid search method will be optional for finding the best combination of model’s parameters. Once we have finished training the models. They will be evaluated by using the evaluation metric, area under the Receiver operating characteristic curve (AUC). Models will be check thoroughly to see if there is anything insufficient. \n",
    "\n",
    "Kaggle’s official evaluation will be also taken into account. Depending on the performance of these models, we maybe have to go to some previous step to see if there is anything missing or wrong. Once we have an acceptable model (the one with better\n",
    "performance on evaluation and testing), whose score is at least over 0.92, we can stop and publish that model.\n",
    "\n",
    "### Metrics\n",
    "Evaluation metric will be the area under the Receiver operating characteristic (ROC) curve between the predicted probability and the observed target. Such metric is also called as ‘AUC’. AUC as a further interpretation of ROC is a very straightforward and easyunderstanding metric of a binary classifier system. Since now we are trying to establish a model to predict whether a user will download an app after clicking a mobile app or not. This is exactly a binary classification problem. Given a threshold parameter $T$, the instance is classified as “positive” if $X>T$, and “negative” otherwise. $X$ follows a probability density $f_{1}(x)$ if the instance actually belongs to class “positive”, and $f_{0}(x)$ if otherwise. Therefore, the true positive rate is given by $TPR(T)=\\int_{T}^{\\infty}f_{1}(x)dx$ and the false positive rate is given by $FPR(T)=\\int_{T}^{\\infty}f_{0}(x)dx$. \n",
    "\n",
    "The ROC curve plots parametrically $TPR(T)$ versus $FPR(T)$ with $T$ as the varying parameter. Then the AUC is simply the area under the ROC. Generally, we can judge our model through the value of AUC like follows:\n",
    "- AUC=0.5 (no discrimination)\n",
    "- 0.7 ≦ AUC ≦ 0.8 (acceptable discrimination)\n",
    "- 0.8 ≦ AUC ≦ 0.9 (excellent discrimination)\n",
    "- 0.9 ≦ AUC ≦ 1.0 (outstanding discrimination)\n",
    "\n",
    "Ref: https://en.wikipedia.org/wiki/Receiver_operating_characteristic\n",
    "***"
   ]
  },
  {
   "cell_type": "markdown",
   "metadata": {},
   "source": [
    "## II. Analysis\n",
    "### Data Exploration\n",
    "Input training data can be download from: https://www.kaggle.com/c/talkingdata-adtracking-fraud-detection/data\n",
    "- **train.csv** - the training set\n",
    "- **train_sample.csv** - 100,000 randomly-selected rows of training data, to inspect data before downloading full set\n",
    "\n",
    "The size of the data (train.csv) is really quite big. It maybe takes much time use the whole training data set and the whole testing data set for our model development and self-evaluation due to limited memory. There are 200 million recorded data and each data entry is with 8 features. It contains some features like: IP address of click, App. ID for marketing, operation system (OS) version ID of user mobile phone, device type ID of user mobile phone, the target that is to be predicted, indicating the app was downloaded, etc. Some features of data are encoded already. Except of two features are recorded in UTC time format. There is a data sample (train_sample.csv) provided for quick inspection.\n",
    "\n",
    "Each row of the training data contains a click record, with the following features.\n",
    "- **ip**: ip address of click.\n",
    "- **app**: app id for marketing.\n",
    "- **device**: device type id of user mobile phone (e.g., iphone 6 plus, iphone 7, huawei mate 7, etc.)\n",
    "- **os**: os version id of user mobile phone\n",
    "- **channel**: channel id of mobile ad publisher\n",
    "- **click_time**: timestamp of click (UTC)\n",
    "- **attributed_time**: if user download the app for after clicking an ad, this is the time of the app download \n",
    "\n",
    "Note that ip, app, device, os, and channel are encoded.\n",
    "\n",
    "The test data for Kaggle Leaderboard ranking is similar, with the following differences: <br>\n",
    "- **click_id**: reference for making predictions\n",
    "\n",
    "**Target Variable**\n",
    "- **is_attributed**: the target that is to be predicted, indicating the app was downloaded (not included in the test data for Kaggle Leaderboard ranking)\n",
    "\n",
    "https://github.com/div3125/udacity-mlnd-capstone/blob/master/report.pdf"
   ]
  },
  {
   "cell_type": "code",
   "execution_count": 42,
   "metadata": {},
   "outputs": [
    {
     "name": "stdout",
     "output_type": "stream",
     "text": [
      "998307\n",
      "1694\n"
     ]
    }
   ],
   "source": [
    "import pandas as pd\n",
    "from IPython.display import display # Allows the use of display() for DataFrames\n",
    "import matplotlib.pyplot as plt\n",
    "import seaborn as sns\n",
    "\n",
    "# Pretty display for notebooks\n",
    "%matplotlib inline\n",
    "\n",
    "#data_sample = pd.read_csv('data/train_sample.csv')\n",
    "#data = pd.read_csv('data/train.csv', chunksize=1000000)\n",
    "#print data_sample.head\n",
    "#print data\n",
    "#for chunk in pd.read_csv('data/train.csv', chunksize = 1000000):\n",
    "fraud = 0\n",
    "not_fraud = 1\n",
    "for chunk in pd.read_csv('data/train_sample.csv', chunksize = 1000000):\n",
    "    fraud += data[data['is_attributed']==0].shape[0]\n",
    "    not_fraud += data[data['is_attributed']==1].shape[0]\n",
    "print fraud\n",
    "print not_fraud"
   ]
  },
  {
   "cell_type": "code",
   "execution_count": 43,
   "metadata": {},
   "outputs": [
    {
     "data": {
      "image/png": "[encoded data removed]",
      "text/plain": [
       "<matplotlib.figure.Figure at 0x53e1ec50>"
      ]
     },
     "metadata": {},
     "output_type": "display_data"
    }
   ],
   "source": [
    "import matplotlib.pyplot as plt\n",
    "import seaborn as sns\n",
    "\n",
    "prob_not_fraud = float(not_fraud)/float(not_fraud+fraud)\n",
    "prob_fraud = float(fraud)/float(not_fraud+fraud)\n",
    "ax = sns.barplot(x=['not fraud(1)', 'fraud(0)'], y=[prob_not_fraud, prob_fraud])\n",
    "ax.set(xlabel='Target Value', ylabel='Probability', title='Target value distribution')\n",
    "for p, uniq in zip(ax.patches, [prob_not_fraud, prob_fraud]):\n",
    "    height = p.get_height()\n",
    "    ax.text(p.get_x()+p.get_width()/2.,\n",
    "            height+0.01,\n",
    "            '{}%'.format(round(uniq * 100, 2)),\n",
    "            ha=\"center\") "
   ]
  },
  {
   "cell_type": "code",
   "execution_count": 45,
   "metadata": {},
   "outputs": [
    {
     "ename": "ImportError",
     "evalue": "No module named imblearn",
     "output_type": "error",
     "traceback": [
      "\u001b[1;31m---------------------------------------------------------------------------\u001b[0m",
      "\u001b[1;31mImportError\u001b[0m                               Traceback (most recent call last)",
      "\u001b[1;32m<ipython-input-45-9e3abba89e0c>\u001b[0m in \u001b[0;36m<module>\u001b[1;34m()\u001b[0m\n\u001b[1;32m----> 1\u001b[1;33m \u001b[1;32mimport\u001b[0m \u001b[0mimblearn\u001b[0m\u001b[1;33m\u001b[0m\u001b[0m\n\u001b[0m",
      "\u001b[1;31mImportError\u001b[0m: No module named imblearn"
     ]
    }
   ],
   "source": []
  },
  {
   "cell_type": "code",
   "execution_count": null,
   "metadata": {
    "collapsed": true
   },
   "outputs": [],
   "source": []
  }
 ],
 "metadata": {
  "kernelspec": {
   "display_name": "Python 2",
   "language": "python",
   "name": "python2"
  },
  "language_info": {
   "codemirror_mode": {
    "name": "ipython",
    "version": 2
   },
   "file_extension": ".py",
   "mimetype": "text/x-python",
   "name": "python",
   "nbconvert_exporter": "python",
   "pygments_lexer": "ipython2",
   "version": "2.7.13"
  }
 },
 "nbformat": 4,
 "nbformat_minor": 2
}
