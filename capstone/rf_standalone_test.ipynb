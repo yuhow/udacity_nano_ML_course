{
 "cells": [
  {
   "cell_type": "code",
   "execution_count": 2,
   "metadata": {},
   "outputs": [
    {
     "name": "stderr",
     "output_type": "stream",
     "text": [
      "C:\\Users\\MLUSER\\AppData\\Local\\conda\\conda\\envs\\my_root\\lib\\site-packages\\sklearn\\cross_validation.py:41: DeprecationWarning: This module was deprecated in version 0.18 in favor of the model_selection module into which all the refactored classes and functions are moved. Also note that the interface of the new CV iterators are different from that of this module. This module will be removed in 0.20.\n",
      "  \"This module will be removed in 0.20.\", DeprecationWarning)\n"
     ]
    },
    {
     "name": "stdout",
     "output_type": "stream",
     "text": [
      "started loading\n",
      "finished loading\n",
      "label encoding....\n",
      "dropping\n",
      "label encoding....\n",
      "dropping\n",
      "finished\n"
     ]
    }
   ],
   "source": [
    "import gc\n",
    "import time\n",
    "import numpy as np\n",
    "import pandas as pd\n",
    "from sklearn.cross_validation import train_test_split\n",
    "import warnings\n",
    "warnings.filterwarnings('ignore')\n",
    "import os\n",
    "os.environ['OMP_NUM_THREADS'] = '4'\n",
    "\n",
    "path = 'data/'\n",
    "dtypes = {\n",
    "        'ip'            : 'uint32',\n",
    "        'app'           : 'uint16',\n",
    "        'device'        : 'uint16',\n",
    "        'os'            : 'uint16',\n",
    "        'channel'       : 'uint16',\n",
    "        'is_attributed' : 'uint8',\n",
    "        'click_id'      : 'uint32'\n",
    "        }\n",
    "\n",
    "print('started loading')\n",
    "\n",
    "train_columns = ['ip', 'app', 'device', 'os', 'channel', 'click_time', 'is_attributed']\n",
    "#train_df = pd.read_csv(path+\"train.csv\", dtype=dtypes, skiprows = range(1, 131886954), usecols=['ip','app','device','os', 'channel', 'click_time', 'is_attributed'])\n",
    "train_df = pd.read_csv(path+\"train_sample.csv\", dtype=dtypes, usecols=['ip','app','device','os', 'channel', 'click_time', 'is_attributed'])\n",
    "test_df = pd.read_csv(path+\"test.csv\", dtype=dtypes, usecols=['ip','app','device','os', 'channel', 'click_time', 'click_id'])\n",
    "\n",
    "print('finished loading')\n",
    "\n",
    "def prep_data(d):\n",
    "    \"\"\"\n",
    "    print('hour, day, wday....')\n",
    "    d['hour'] = pd.to_datetime(d.click_time).dt.hour.astype('uint8')\n",
    "    d['day'] = pd.to_datetime(d.click_time).dt.day.astype('uint8')\n",
    "    d['wday']  = pd.to_datetime(d.click_time).dt.dayofweek.astype('uint8')\n",
    "    print('grouping by ip-day-hour combination....')\n",
    "    gp = d[['ip','day','hour','channel']].groupby(by=['ip','day','hour'])[['channel']].count().reset_index().rename(index=str, columns={'channel': 'qty'})\n",
    "    d = d.merge(gp, on=['ip','day','hour'], how='left')\n",
    "    del gp; gc.collect()\n",
    "    print('group by ip-app combination....')\n",
    "    gp = d[['ip','app', 'channel']].groupby(by=['ip', 'app'])[['channel']].count().reset_index().rename(index=str, columns={'channel': 'ip_app_count'})\n",
    "    d = d.merge(gp, on=['ip','app'], how='left')\n",
    "    del gp; gc.collect()\n",
    "    print('group by ip-app-os combination....')\n",
    "    gp = d[['ip','app', 'os', 'channel']].groupby(by=['ip', 'app', 'os'])[['channel']].count().reset_index().rename(index=str, columns={'channel': 'ip_app_os_count'})\n",
    "    d = d.merge(gp, on=['ip','app', 'os'], how='left')\n",
    "    del gp; gc.collect()\n",
    "    print(\"vars and data type....\")\n",
    "    d['qty'] = d['qty'].astype('uint16')\n",
    "    d['ip_app_count'] = d['ip_app_count'].astype('uint16')\n",
    "    d['ip_app_os_count'] = d['ip_app_os_count'].astype('uint16')\n",
    "    \"\"\"\n",
    "    print(\"label encoding....\")\n",
    "    from sklearn.preprocessing import LabelEncoder\n",
    "    #d[['app','device','os', 'channel', 'hour', 'day', 'wday']].apply(LabelEncoder().fit_transform)\n",
    "    d[['app','device','os', 'channel']].apply(LabelEncoder().fit_transform)\n",
    "    print('dropping')\n",
    "    d.drop(['click_time', 'ip'], 1, inplace=True)\n",
    "    \n",
    "    return d\n",
    "\n",
    "train_df = prep_data(train_df)\n",
    "test_df = prep_data(test_df)\n",
    "print(\"finished\")"
   ]
  },
  {
   "cell_type": "code",
   "execution_count": 59,
   "metadata": {
    "collapsed": true
   },
   "outputs": [],
   "source": [
    "RANDOM_SEED = 1\n",
    "import random\n",
    "random.seed(RANDOM_SEED)\n",
    "np.random.seed(RANDOM_SEED)\n",
    "\n",
    "X_train, X_test = train_test_split(train_df, test_size=0.4, random_state=RANDOM_SEED)\n",
    "\n",
    "#print X_train['is_attributed'].sum()/float(X_train.shape[0])\n",
    "#print X_test['is_attributed'].sum()/float(X_test.shape[0])\n",
    "\n",
    "y_train = X_train['is_attributed']\n",
    "X_train = X_train.drop(['is_attributed'], axis=1)\n",
    "y_test = X_test['is_attributed']\n",
    "X_test = X_test.drop(['is_attributed'], axis=1)\n",
    "\n",
    "\n",
    "from imblearn.over_sampling import RandomOverSampler, SMOTE, ADASYN\n",
    "from imblearn.under_sampling import RandomUnderSampler, NearMiss, TomekLinks, EditedNearestNeighbours\n",
    "\n",
    "X_over_train, y_over_train = SMOTE(random_state=10).fit_sample(X_train, y_train)\n",
    "X_under_train, y_under_train = RandomUnderSampler(random_state=10).fit_sample(X_train, y_train)"
   ]
  },
  {
   "cell_type": "code",
   "execution_count": 104,
   "metadata": {},
   "outputs": [
    {
     "data": {
      "text/plain": [
       "RandomForestClassifier(bootstrap=False, class_weight=None, criterion='gini',\n",
       "            max_depth=10, max_features=0.7, max_leaf_nodes=None,\n",
       "            min_impurity_decrease=0.0, min_impurity_split=None,\n",
       "            min_samples_leaf=20, min_samples_split=2,\n",
       "            min_weight_fraction_leaf=0.0, n_estimators=15, n_jobs=-1,\n",
       "            oob_score=False, random_state=10, verbose=0, warm_start=False)"
      ]
     },
     "execution_count": 104,
     "metadata": {},
     "output_type": "execute_result"
    }
   ],
   "source": [
    "from sklearn.ensemble import RandomForestClassifier\n",
    "\n",
    "#rf = RandomForestClassifier(max_depth=9, random_state=10)\n",
    "#rf = RandomForestClassifier(n_estimators=12, max_depth=12, min_samples_leaf=50, \\\n",
    "#                            max_features=0.5, bootstrap=False, n_jobs=-1, random_state=10) #0.9627 now\n",
    "rf = RandomForestClassifier(n_estimators=15, max_depth=10, min_samples_leaf=20, \\\n",
    "                            max_features=0.7, bootstrap=False, n_jobs=-1, random_state=10)\n",
    "#rf = RandomForestClassifier(n_estimators=100, max_depth=9, min_samples_leaf=40, \\\n",
    "#                            max_features=0.6, bootstrap=False, n_jobs=-1, random_state=10)\n",
    "#rf = RandomForestClassifier(n_estimators=50, max_depth=6, min_samples_leaf=1, \\\n",
    "#                            max_features=0.6, bootstrap=False, n_jobs=-1, random_state=10)\n",
    "#rf.fit(X_train, y_train)\n",
    "rf.fit(X_over_train, y_over_train)\n",
    "#rf.fit(X_under_train, y_under_train)"
   ]
  },
  {
   "cell_type": "code",
   "execution_count": 105,
   "metadata": {},
   "outputs": [
    {
     "name": "stdout",
     "output_type": "stream",
     "text": [
      "[[  9.99165472e-01   8.34528252e-04]\n",
      " [  9.99009210e-01   9.90789643e-04]\n",
      " [  9.68318339e-01   3.16816614e-02]\n",
      " ..., \n",
      " [  9.95735514e-01   4.26448576e-03]\n",
      " [  9.91283870e-01   8.71613005e-03]\n",
      " [  9.99523665e-01   4.76335401e-04]]\n"
     ]
    }
   ],
   "source": [
    "predictions = rf.predict_proba(X_test)\n",
    "print predictions"
   ]
  },
  {
   "cell_type": "code",
   "execution_count": 106,
   "metadata": {
    "collapsed": true
   },
   "outputs": [],
   "source": [
    "def convert_preds(raw_preds):\n",
    "    #raw_preds = np.where(raw_preds > 0.99, 1, 0)\n",
    "    preds = []\n",
    "    for p in raw_preds:\n",
    "        preds.append(1 - p[0])\n",
    "    \n",
    "    return preds"
   ]
  },
  {
   "cell_type": "code",
   "execution_count": 107,
   "metadata": {
    "collapsed": true
   },
   "outputs": [],
   "source": [
    "val_preds = convert_preds(predictions)"
   ]
  },
  {
   "cell_type": "code",
   "execution_count": 108,
   "metadata": {},
   "outputs": [
    {
     "data": {
      "text/plain": [
       "0.99466141911647687"
      ]
     },
     "execution_count": 108,
     "metadata": {},
     "output_type": "execute_result"
    }
   ],
   "source": [
    "max(val_preds)"
   ]
  },
  {
   "cell_type": "code",
   "execution_count": 109,
   "metadata": {},
   "outputs": [
    {
     "data": {
      "image/png": "[encoded data removed]",
      "text/plain": [
       "<matplotlib.figure.Figure at 0x287bbc88>"
      ]
     },
     "metadata": {},
     "output_type": "display_data"
    }
   ],
   "source": [
    "import matplotlib.pyplot as plt\n",
    "from sklearn.metrics import (confusion_matrix, precision_recall_curve, auc,\n",
    "                             roc_curve, recall_score, classification_report, f1_score,\n",
    "                             precision_recall_fscore_support)\n",
    "\n",
    "fpr, tpr, thresholds = roc_curve(y_test, val_preds)\n",
    "roc_auc = auc(fpr, tpr)\n",
    "\n",
    "plt.title('Receiver Operating Characteristic')\n",
    "plt.plot(fpr, tpr, label='AUC = %0.4f'% roc_auc)\n",
    "plt.legend(loc='lower right')\n",
    "plt.plot([0,1],[0,1],'r--')\n",
    "plt.xlim([-0.001, 1])\n",
    "plt.ylim([0, 1.001])\n",
    "plt.ylabel('True Positive Rate')\n",
    "plt.xlabel('False Positive Rate')\n",
    "plt.show();"
   ]
  },
  {
   "cell_type": "code",
   "execution_count": 102,
   "metadata": {},
   "outputs": [
    {
     "name": "stdout",
     "output_type": "stream",
     "text": [
      "   click_id  app  device  os  channel\n",
      "0         0    9       1   3      107\n",
      "1         1    9       1   3      466\n",
      "2         2   21       1  19      128\n",
      "3         3   15       1  13      111\n",
      "4         4   12       1  13      328\n"
     ]
    }
   ],
   "source": [
    "print test_df.head()\n",
    "ids = test_df['click_id']\n",
    "test_df.drop('click_id', axis=1, inplace=True)\n",
    "predictions = rf.predict_proba(test_df)"
   ]
  },
  {
   "cell_type": "code",
   "execution_count": 103,
   "metadata": {},
   "outputs": [
    {
     "name": "stdout",
     "output_type": "stream",
     "text": [
      "(18790469, 2)\n"
     ]
    }
   ],
   "source": [
    "sub_preds = convert_preds(predictions)\n",
    "sub = pd.DataFrame()\n",
    "sub['click_id'] = ids\n",
    "sub['is_attributed'] = sub_preds\n",
    "print sub.shape\n",
    "sub.to_csv('rf_sub.csv', index=False)"
   ]
  },
  {
   "cell_type": "code",
   "execution_count": 27,
   "metadata": {},
   "outputs": [
    {
     "name": "stdout",
     "output_type": "stream",
     "text": [
      "   click_id  is_attributed\n",
      "0         0       0.013905\n",
      "1         1       0.002466\n",
      "2         2       0.000000\n",
      "3         3       0.031881\n",
      "4         4       0.002094\n"
     ]
    }
   ],
   "source": [
    "print (sub.head())"
   ]
  },
  {
   "cell_type": "code",
   "execution_count": null,
   "metadata": {
    "collapsed": true
   },
   "outputs": [],
   "source": []
  }
 ],
 "metadata": {
  "kernelspec": {
   "display_name": "Python 2",
   "language": "python",
   "name": "python2"
  },
  "language_info": {
   "codemirror_mode": {
    "name": "ipython",
    "version": 2
   },
   "file_extension": ".py",
   "mimetype": "text/x-python",
   "name": "python",
   "nbconvert_exporter": "python",
   "pygments_lexer": "ipython2",
   "version": "2.7.13"
  }
 },
 "nbformat": 4,
 "nbformat_minor": 2
}
